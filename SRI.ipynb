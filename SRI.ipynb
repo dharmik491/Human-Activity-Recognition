{
 "cells": [
  {
   "cell_type": "code",
   "execution_count": 1,
   "id": "14d80b1b",
   "metadata": {},
   "outputs": [],
   "source": [
    "from tensorflow.keras.layers import Dense, LSTM, Conv2D, TimeDistributed, Flatten, GlobalAveragePooling2D\n",
    "from tensorflow.keras.models import Sequential\n",
    "from tensorflow.keras.optimizers import Adam\n",
    "import numpy as np"
   ]
  },
  {
   "cell_type": "code",
   "execution_count": 2,
   "id": "9e4d7d9a",
   "metadata": {},
   "outputs": [],
   "source": [
    "frames = 320\n",
    "x = 480\n",
    "y = 640\n",
    "classes = [\"Reading\", \"Drink\", \"Eat\", \"Call Cellphone\", \"Write\", \"Use Laptop\", \"Use Vaccum Cleaner\", \"Cheer Up\", \"Sit Still\", \"Toss Paper\", \"Play Game\", \"Lay Down\", \"Walk\", \"Stand Up\", \"Sit Down\"]\n",
    "outputs = len(classes)\n"
   ]
  },
  {
   "cell_type": "code",
   "execution_count": 3,
   "id": "06107f80",
   "metadata": {},
   "outputs": [],
   "source": [
    "model = Sequential()\n",
    "model.add(TimeDistributed(Conv2D(input_shape=(frames, x, y, 1), filters=4,kernel_size=(3,3),padding=\"same\", activation=\"relu\")))\n",
    "#model.add(TimeDistributed(Conv2D(filters=64,kernel_size=(3,3),padding=\"same\", activation=\"relu\")))\n",
    "model.add(TimeDistributed(GlobalAveragePooling2D()))\n",
    "model.add(LSTM(50, input_shape=(frames,1), activation='relu', return_sequences=True))\n",
    "model.add(TimeDistributed(Dense(10)))\n",
    "#model.add(Dense(1024, activation='relu'))\n",
    "model.add(Dense(outputs, activation='softmax'))"
   ]
  },
  {
   "cell_type": "code",
   "execution_count": 4,
   "id": "6992d449",
   "metadata": {},
   "outputs": [
    {
     "name": "stdout",
     "output_type": "stream",
     "text": [
      "Model: \"sequential\"\n",
      "_________________________________________________________________\n",
      " Layer (type)                Output Shape              Param #   \n",
      "=================================================================\n",
      " time_distributed (TimeDistr  (4, 320, 480, 640, 4)    40        \n",
      " ibuted)                                                         \n",
      "                                                                 \n",
      " time_distributed_1 (TimeDis  (4, 320, 4)              0         \n",
      " tributed)                                                       \n",
      "                                                                 \n",
      " lstm (LSTM)                 (4, 320, 50)              11000     \n",
      "                                                                 \n",
      " time_distributed_2 (TimeDis  (4, 320, 10)             510       \n",
      " tributed)                                                       \n",
      "                                                                 \n",
      " dense_1 (Dense)             (4, 320, 15)              165       \n",
      "                                                                 \n",
      "=================================================================\n",
      "Total params: 11,715\n",
      "Trainable params: 11,715\n",
      "Non-trainable params: 0\n",
      "_________________________________________________________________\n",
      "None\n"
     ]
    }
   ],
   "source": [
    "model.compile(loss='categorical_crossentropy', optimizer='adam')\n",
    "model.build((4,frames,x,y,1))\n",
    "print(model.summary())"
   ]
  },
  {
   "cell_type": "code",
   "execution_count": 5,
   "id": "7fe9fc6f",
   "metadata": {},
   "outputs": [],
   "source": [
    "import cv2 as cv\n",
    "import os\n",
    "\n",
    "for f in os.listdir(\"MSRDailyAct3D_pack2/Reading\"):\n",
    "    if f.endswith(\".avi\"):\n",
    "        continue\n",
    "    os.remove(os.path.join(\"MSRDailyAct3D_pack2/Reading\", f))\n",
    "\n",
    "i=0\n",
    "c=0\n",
    "X_train = []\n",
    "Y_train = []\n",
    "for path in os.listdir(\"MSRDailyAct3D_pack2/Reading\"):\n",
    "    capture = cv.VideoCapture(\"MSRDailyAct3D_pack2/Reading/\"+path)\n",
    "\n",
    "    #work\n",
    "\n",
    "    i = i+1   \n",
    "    \n",
    "    temp_frames = []\n",
    "    while(True):\n",
    "        \n",
    "        ret, frame = capture.read()\n",
    "        #print(ret)\n",
    "        if ret == True:\n",
    "\n",
    "            grayImage = cv.cvtColor(frame, cv.COLOR_BGR2GRAY)\n",
    "            cv.imshow('Frame '+ str(i), grayImage)\n",
    "            temp_frames.append(grayImage)\n",
    "\n",
    "\n",
    "        # Break the loop\n",
    "        else: \n",
    "            break\n",
    "        \n",
    "    for t in range(frames-len(temp_frames)):\n",
    "        temp_frames.append(np.zeros((x,y)))\n",
    "    X = np.array(temp_frames)\n",
    "    X=X.reshape(X.shape[0],X.shape[1],X.shape[2],1)\n",
    "    X=X.astype(\"float16\")\n",
    "    ind = 0\n",
    "    label = np.zeros((X.shape[0], len(classes)))\n",
    "    label[:][ind] = 1\n",
    "    Y_train.append(label)\n",
    "    #print(label.shape)\n",
    "    X_train.append(X)\n",
    "\n",
    "                         \n",
    "capture.release()\n",
    "cv.destroyAllWindows()"
   ]
  },
  {
   "cell_type": "code",
   "execution_count": 6,
   "id": "ce5fb401",
   "metadata": {},
   "outputs": [],
   "source": [
    "X_train_final = np.array(X_train)\n",
    "Y_train_final = np.array(Y_train)\n",
    "\n",
    "#model.fit(X_train_final, Y_train_final)"
   ]
  },
  {
   "cell_type": "code",
   "execution_count": 7,
   "id": "cfa7099e",
   "metadata": {},
   "outputs": [
    {
     "name": "stdout",
     "output_type": "stream",
     "text": [
      "(320, 480, 640, 1)\n",
      "(320, 480, 640, 1)\n"
     ]
    }
   ],
   "source": [
    "for t in range(2):\n",
    "    print(X_train_final[t].shape)"
   ]
  },
  {
   "cell_type": "code",
   "execution_count": null,
   "id": "3831553d",
   "metadata": {},
   "outputs": [
    {
     "name": "stdout",
     "output_type": "stream",
     "text": [
      "Epoch 1/5\n"
     ]
    }
   ],
   "source": [
    "model.fit(X_train_final, Y_train_final, epochs=5)"
   ]
  },
  {
   "cell_type": "code",
   "execution_count": null,
   "id": "df6bde70",
   "metadata": {},
   "outputs": [],
   "source": []
  }
 ],
 "metadata": {
  "kernelspec": {
   "display_name": "Python 3 (ipykernel)",
   "language": "python",
   "name": "python3"
  },
  "language_info": {
   "codemirror_mode": {
    "name": "ipython",
    "version": 3
   },
   "file_extension": ".py",
   "mimetype": "text/x-python",
   "name": "python",
   "nbconvert_exporter": "python",
   "pygments_lexer": "ipython3",
   "version": "3.8.3"
  }
 },
 "nbformat": 4,
 "nbformat_minor": 5
}
